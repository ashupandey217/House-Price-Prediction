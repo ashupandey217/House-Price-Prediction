{
  "nbformat": 4,
  "nbformat_minor": 0,
  "metadata": {
    "colab": {
      "name": "House_price_prediction.ipynb",
      "provenance": [],
      "collapsed_sections": [],
      "authorship_tag": "ABX9TyOTzVjLKUaYvJJI6jlb2l71",
      "include_colab_link": true
    },
    "kernelspec": {
      "name": "python3",
      "display_name": "Python 3"
    },
    "language_info": {
      "name": "python"
    }
  },
  "cells": [
    {
      "cell_type": "markdown",
      "metadata": {
        "id": "view-in-github",
        "colab_type": "text"
      },
      "source": [
        "<a href=\"https://colab.research.google.com/github/ashupandey217/House-Price-Prediction/blob/main/House_price_prediction.ipynb\" target=\"_parent\"><img src=\"https://colab.research.google.com/assets/colab-badge.svg\" alt=\"Open In Colab\"/></a>"
      ]
    },
    {
      "cell_type": "markdown",
      "metadata": {
        "id": "kdg-fbKjj0bA"
      },
      "source": [
        "**Importing Libraries**"
      ]
    },
    {
      "cell_type": "code",
      "metadata": {
        "id": "FRMRZN5CjycM"
      },
      "source": [
        "import pandas as pd\n",
        "import numpy as np\n",
        "import seaborn as sns\n",
        "import matplotlib.pyplot as plt\n",
        "%matplotlib inline"
      ],
      "execution_count": null,
      "outputs": []
    },
    {
      "cell_type": "markdown",
      "metadata": {
        "id": "bcWrGnNfj-qZ"
      },
      "source": [
        "**Importing Dataset and Checking Out**"
      ]
    },
    {
      "cell_type": "code",
      "metadata": {
        "id": "rUAfBi13inGC"
      },
      "source": [
        "House_data = pd.read_csv('USA_Housing.csv')\n",
        "House_data.head() "
      ],
      "execution_count": null,
      "outputs": []
    },
    {
      "cell_type": "code",
      "metadata": {
        "id": "mKFeEv0zjKVC"
      },
      "source": [
        "House_data.info()"
      ],
      "execution_count": null,
      "outputs": []
    },
    {
      "cell_type": "code",
      "metadata": {
        "id": "K9tZwrzxjb-l"
      },
      "source": [
        "House_data.describe()"
      ],
      "execution_count": null,
      "outputs": []
    },
    {
      "cell_type": "code",
      "metadata": {
        "id": "pcX-sGepjkGj"
      },
      "source": [
        "House_data.columns"
      ],
      "execution_count": null,
      "outputs": []
    },
    {
      "cell_type": "markdown",
      "metadata": {
        "id": "hnMtCuC5kKIr"
      },
      "source": [
        "**Exploratory Data Analysis for House Price Prediction**"
      ]
    },
    {
      "cell_type": "code",
      "metadata": {
        "id": "e_7t9B7qkS0P"
      },
      "source": [
        "sns.pairplot(House_data)\n"
      ],
      "execution_count": null,
      "outputs": []
    },
    {
      "cell_type": "code",
      "metadata": {
        "id": "dUCBPgtekjui"
      },
      "source": [
        "sns.distplot(House_data['Price'])"
      ],
      "execution_count": null,
      "outputs": []
    },
    {
      "cell_type": "code",
      "metadata": {
        "id": "JOdsstyTkrPP"
      },
      "source": [
        "sns.heatmap(House_data.corr(), annot=True)"
      ],
      "execution_count": null,
      "outputs": []
    },
    {
      "cell_type": "markdown",
      "metadata": {
        "id": "4sviCuyAk9U4"
      },
      "source": [
        "**Training the model**"
      ]
    },
    {
      "cell_type": "code",
      "metadata": {
        "id": "2TXx5YiRlA3j"
      },
      "source": [
        "x = House_data[['Avg. Area Income', 'Avg. Area House Age', 'Avg. Area Number of Rooms','Avg. Area Number of Bedrooms', 'Area Population']]\n",
        "y = House_data['Price']\n",
        "from sklearn.model_selection import train_test_split\n",
        "x_train, x_test, y_train, y_test = train_test_split(x, y, test_size=0.4, random_state=101) \n",
        "from sklearn.linear_model import LinearRegression \n",
        "lm = LinearRegression() \n",
        "lm.fit(x_train,y_train) "
      ],
      "execution_count": null,
      "outputs": []
    },
    {
      "cell_type": "code",
      "metadata": {
        "id": "WFR0cdgfl8YX"
      },
      "source": [
        "print(lm.intercept_)"
      ],
      "execution_count": null,
      "outputs": []
    },
    {
      "cell_type": "code",
      "metadata": {
        "id": "OLzCflxamFkz"
      },
      "source": [
        "predictions = lm.predict(x_test)  \n",
        "plt.scatter(y_test,predictions)"
      ],
      "execution_count": null,
      "outputs": []
    },
    {
      "cell_type": "code",
      "metadata": {
        "id": "lC6kkqMymqRm"
      },
      "source": [
        "sns.distplot((y_test-predictions),bins=50); "
      ],
      "execution_count": null,
      "outputs": []
    },
    {
      "cell_type": "markdown",
      "metadata": {
        "id": "QbDT8lVOm4lo"
      },
      "source": [
        "**Regression Evaluation Metrices**"
      ]
    },
    {
      "cell_type": "code",
      "metadata": {
        "id": "rvCbxtsom9UA"
      },
      "source": [
        "from sklearn import metrics\n",
        "print('MAE:', metrics.mean_absolute_error(y_test, predictions)) \n",
        "print('MSE:', metrics.mean_squared_error(y_test, predictions))\n",
        "print('RMSE:', np.sqrt(metrics.mean_squared_error(y_test, predictions))) "
      ],
      "execution_count": null,
      "outputs": []
    }
  ]
}